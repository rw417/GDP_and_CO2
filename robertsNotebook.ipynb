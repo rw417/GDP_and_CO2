{
 "cells": [
  {
   "cell_type": "code",
   "execution_count": null,
   "source": [
    "# This is a new notebook    \r\n",
    "def empty():\r\n",
    "    print(\"so empty\")\r\n",
    "\r\n",
    "def empty2():\r\n",
    "    print(\"also empty\")\r\n",
    "\r\n",
    "# code chunk"
   ],
   "outputs": [],
   "metadata": {}
  },
  {
   "cell_type": "markdown",
   "source": [
    "# Markdown title\r\n",
    "\r\n",
    "* list 1\r\n",
    "* list 2"
   ],
   "metadata": {}
  },
  {
   "cell_type": "code",
   "execution_count": null,
   "source": [
    "x=1\r\n",
    "y=2\r\n",
    "x*2\r\n",
    "x*y"
   ],
   "outputs": [],
   "metadata": {}
  },
  {
   "cell_type": "markdown",
   "source": [
    "This is a markdown cell"
   ],
   "metadata": {}
  }
 ],
 "metadata": {
  "orig_nbformat": 4,
  "language_info": {
   "name": "python"
  }
 },
 "nbformat": 4,
 "nbformat_minor": 2
}